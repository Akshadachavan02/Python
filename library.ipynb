{
 "cells": [
  {
   "cell_type": "code",
   "execution_count": 16,
   "metadata": {},
   "outputs": [],
   "source": [
    "import turtle\n",
    "\n",
    "def draw_flower(petals, petal_length):\n",
    "    turtle.speed(12)\n",
    "    for _ in range(petals):\n",
    "        draw_petal(petal_length)\n",
    "        turtle.right(360 / petals)\n",
    "\n",
    "    turtle.done()\n",
    "\n",
    "def draw_petal(petal_length):\n",
    "    turtle.forward(petal_length)\n",
    "    turtle.left(45)\n",
    "    turtle.forward(petal_length)\n",
    "    turtle.left(135)\n",
    "    turtle.forward(petal_length)\n",
    "    turtle.left(45)\n",
    "    turtle.forward(petal_length)\n",
    "\n",
    "draw_flower(petals=8, petal_length=50)\n",
    "\n",
    "    "
   ]
  },
  {
   "cell_type": "code",
   "execution_count": null,
   "metadata": {},
   "outputs": [],
   "source": []
  }
 ],
 "metadata": {
  "kernelspec": {
   "display_name": "Python 3",
   "language": "python",
   "name": "python3"
  },
  "language_info": {
   "codemirror_mode": {
    "name": "ipython",
    "version": 3
   },
   "file_extension": ".py",
   "mimetype": "text/x-python",
   "name": "python",
   "nbconvert_exporter": "python",
   "pygments_lexer": "ipython3",
   "version": "3.11.4"
  },
  "orig_nbformat": 4
 },
 "nbformat": 4,
 "nbformat_minor": 2
}
