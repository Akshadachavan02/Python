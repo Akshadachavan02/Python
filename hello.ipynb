{
 "cells": [
  {
   "cell_type": "markdown",
   "metadata": {},
   "source": [
    "\n",
    "def num():\n",
    "        a=int(input(\"enter the number\"))\n",
    "        while a > 0:\n",
    "            print(a)\n",
    "            a=a-1\n",
    "name=str(input(\"enter your name\"))\n",
    "A=str(input(\"your name\"))\n",
    "if name==A:\n",
    "    num()"
   ]
  },
  {
   "cell_type": "code",
   "execution_count": 1,
   "metadata": {},
   "outputs": [],
   "source": []
  },
  {
   "cell_type": "code",
   "execution_count": null,
   "metadata": {},
   "outputs": [],
   "source": [
    "class living():\n",
    "    def __init__(self,living_status):\n",
    "       self.living = living_status\n",
    "class human(living):\n",
    "    def __init__(self, charac):\n",
    "        super().__init__(\"human\")\n",
    "        self.hands=2\n",
    "        self.legs=2\n",
    "        self.charac=charac\n",
    "class animal(living):\n",
    "    def __init__(self, living_status):\n",
    "        super().__init__(living_status) \n",
    "              "
   ]
  }
 ],
 "metadata": {
  "kernelspec": {
   "display_name": "Python 3",
   "language": "python",
   "name": "python3"
  },
  "language_info": {
   "codemirror_mode": {
    "name": "ipython",
    "version": 3
   },
   "file_extension": ".py",
   "mimetype": "text/x-python",
   "name": "python",
   "nbconvert_exporter": "python",
   "pygments_lexer": "ipython3",
   "version": "3.11.4"
  },
  "orig_nbformat": 4
 },
 "nbformat": 4,
 "nbformat_minor": 2
}
